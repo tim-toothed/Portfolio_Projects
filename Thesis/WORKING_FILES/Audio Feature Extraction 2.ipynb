{
 "cells": [
  {
   "cell_type": "code",
   "execution_count": 1,
   "metadata": {},
   "outputs": [],
   "source": [
    "import pandas as pd\n",
    "import seaborn as sns\n",
    "import numpy as np\n",
    "import os\n",
    "import librosa as lb\n",
    "import glob\n",
    "from pprint import pprint as pp\n",
    "import scipy\n",
    "import matplotlib.pyplot as plt\n",
    "from  more_itertools import unique_everseen\n",
    "from collections import OrderedDict\n",
    "from pydub import utils\n",
    "import math\n",
    "import statistics\n",
    "import itertools\n",
    "import csv"
   ]
  },
  {
   "cell_type": "code",
   "execution_count": 2,
   "metadata": {},
   "outputs": [],
   "source": [
    "# Path for audio data\n",
    "data ={}\n",
    "name_list =[]\n",
    "path = r'C:\\\\Users\\\\timur\\\\OneDrive\\\\Documents\\\\R Studio Tasks\\\\ДИПЛОМ\\\\Audio New\\\\'\n",
    "\n",
    "files = [f for f in glob.glob(path + \"*.mp3\", recursive=True)]\n",
    "\n",
    "# Since it is not fast and sometimes it crushes - I divided the extraction by several file packs \n",
    "files0 = files[:4250:]\n",
    "files1 = files[4250:8500:]\n",
    "files2 = files[8500:13059:]\n",
    "files3 = files[8500+2800:13059:]"
   ]
  },
  {
   "cell_type": "code",
   "execution_count": 3,
   "metadata": {},
   "outputs": [
    {
     "name": "stdout",
     "output_type": "stream",
     "text": [
      "C:\\\\Users\\\\timur\\\\OneDrive\\\\Documents\\\\R Studio Tasks\\\\ДИПЛОМ\\\\Audio New\\6S1XPFy1xngwdJrQlijiTv - ALEKS ATAMAN - Получай по губам.mp3                                                                                        \r"
     ]
    },
    {
     "name": "stderr",
     "output_type": "stream",
     "text": [
      "c:\\Users\\timur\\AppData\\Local\\Programs\\Python\\Python310\\lib\\site-packages\\librosa\\util\\decorators.py:88: UserWarning: PySoundFile failed. Trying audioread instead.\n",
      "  return f(*args, **kwargs)\n"
     ]
    },
    {
     "name": "stdout",
     "output_type": "stream",
     "text": [
      "C:\\\\Users\\\\timur\\\\OneDrive\\\\Documents\\\\R Studio Tasks\\\\ДИПЛОМ\\\\Audio New\\7zXZHEkkdT29CmCIAIaoKo - MAYOT - Абонент (Prod. by manyice x blessque).mp3                                                                                                                   \r"
     ]
    }
   ],
   "source": [
    "data ={}\n",
    "name_list =[]\n",
    "\n",
    "for file in files0:\n",
    "    # Show the name of the audio file\n",
    "    print(file + \"                                                                                        \", end = \"\\r\")\n",
    "    \n",
    "    # Create name for ds appearance\n",
    "    name = file.split('\\\\')[-1].split('.mp3')[0]\n",
    "    name_list.append(name)\n",
    "\n",
    "    # Audio -> Python numbers\n",
    "    dur = utils.mediainfo(file)[\"duration\"]\n",
    "    y, sr = lb.load(file, sr=44100, duration = math.floor(float(dur)))\n",
    "    data[name] = {'y' : y, 'sr': sr}\n"
   ]
  },
  {
   "cell_type": "code",
   "execution_count": 4,
   "metadata": {},
   "outputs": [],
   "source": [
    "def get_audio_features(song, sr, hop_length, n_fft):\n",
    "\n",
    "    y_harmonic, y_percussive = lb.effects.hpss(song)  # split song into harmonic and percussive parts\n",
    "    stft_harmonic = lb.core.stft(y_harmonic, n_fft=n_fft, hop_length=hop_length)  # Compute power spectrogram.\n",
    "    stft_percussive = lb.core.stft(y_percussive, n_fft=n_fft, hop_length=hop_length)  # Compute power spectrogram.\n",
    "\n",
    "    rmsH = np.sqrt(np.median(np.abs(lb.feature.rms(S=stft_harmonic)) ** 2, axis=0, keepdims=True))\n",
    "    rmsH_median = np.median(rmsH)\n",
    "    rmsH_std = np.std(rmsH)\n",
    "\n",
    "    rmsP = np.sqrt(np.median(np.abs(lb.feature.rms(S=stft_percussive)) ** 2, axis=0, keepdims=True))\n",
    "    rmsP_median = np.median(rmsP)\n",
    "    rmsP_std = np.std(rmsP)\n",
    "\n",
    "    centroid = lb.feature.spectral_centroid(song, sr, n_fft=n_fft,\n",
    "                                            hop_length=hop_length)  # Compute the spectral centroid.\n",
    "    centroid_median = np.median(centroid)\n",
    "    centroid_std = np.std(centroid)\n",
    "\n",
    "    bw = lb.feature.spectral_bandwidth(song, sr, n_fft=n_fft,\n",
    "                                       hop_length=hop_length)  # Compute p’th-order spectral bandwidth:\n",
    "    bw_median = np.median(bw)\n",
    "    bw_std = np.std(bw)\n",
    "\n",
    "    contrast = lb.feature.spectral_contrast(song, sr, n_fft=n_fft,\n",
    "                                            hop_length=hop_length)  # Compute spectral contrast\n",
    "    contrast_median = np.median(contrast)\n",
    "    contrast_std = np.std(contrast)\n",
    "\n",
    "    polyfeat = lb.feature.poly_features(y_harmonic, sr, n_fft=n_fft,\n",
    "                                        hop_length=hop_length)  # Get coefficients of fitting an nth-order polynomial to the columns of a spectrogram.\n",
    "    polyfeat_median = np.median(polyfeat[0])\n",
    "    polyfeat_std = np.std(polyfeat[0])\n",
    "\n",
    "    tonnetz = lb.feature.tonnetz(lb.effects.harmonic(y_harmonic),\n",
    "                                 sr)  # Computes the tonal centroid features (tonnetz), following the method of\n",
    "    tonnetz_median = np.median(tonnetz)\n",
    "    tonnetz_std = np.std(tonnetz)\n",
    "\n",
    "    zcr = lb.feature.zero_crossing_rate(song, sr, hop_length=hop_length)  # zero crossing rate\n",
    "    zcr_median = np.median(zcr)\n",
    "\n",
    "    features_dict = OrderedDict({'rmseP_median': rmsP_median, 'rmseP_std': rmsP_std, \n",
    "                                 'rmseH_median': rmsH_median, 'rmseH_std': rmsH_std,\n",
    "                                 'centroid_median': centroid_median, 'centroid_std': centroid_std, \n",
    "                                 'bw_std': bw_std,\n",
    "                                 'contrast_median': contrast_median, 'contrast_std': contrast_std, \n",
    "                                 'polyfeat_median': polyfeat_median, 'polyfeat_std': polyfeat_std, \n",
    "                                 'tonnetz_median': tonnetz_median, 'tonnetz_std': tonnetz_std,\n",
    "                                 'zcr_median': zcr_median})\n",
    "\n",
    "    return features_dict"
   ]
  },
  {
   "cell_type": "code",
   "execution_count": 5,
   "metadata": {},
   "outputs": [
    {
     "name": "stderr",
     "output_type": "stream",
     "text": [
      "100%|██████████| 1759/1759 [3:02:29<00:00,  6.22s/it]  "
     ]
    },
    {
     "name": "stdout",
     "output_type": "stream",
     "text": [
      "finish\n"
     ]
    },
    {
     "name": "stderr",
     "output_type": "stream",
     "text": [
      "\n"
     ]
    }
   ],
   "source": [
    "import warnings\n",
    "from tqdm import tqdm\n",
    "\n",
    "# final dictionary\n",
    "od_combined = OrderedDict()\n",
    "\n",
    "# Function loop\n",
    "for i in tqdm(range(len(name_list))):\n",
    "    with warnings.catch_warnings():\n",
    "        warnings.simplefilter(\"ignore\")\n",
    "        \n",
    "        # The actual function\n",
    "        od = get_audio_features(data[name_list[i]]['y'], data[name_list[i]]['sr'], hop_length=512, n_fft=2048)\n",
    "    \n",
    "    # To the dictionary\n",
    "    od['song_name'] = name_list[i]\n",
    "    for key, value in od.items():\n",
    "        if key not in od_combined:\n",
    "            od_combined[key] = []\n",
    "        od_combined[key].append(value)\n",
    "\n",
    "    # Download result every 100 tracks\n",
    "    if i % 100 == 0:\n",
    "        cffa441 = pd.DataFrame(od_combined, columns=od_combined.keys())\n",
    "        cffa441.to_csv('new_combine_features_full_audio_final_3.csv')\n",
    "\n",
    "print('finish')"
   ]
  }
 ],
 "metadata": {
  "kernelspec": {
   "display_name": "Python 3",
   "language": "python",
   "name": "python3"
  },
  "language_info": {
   "codemirror_mode": {
    "name": "ipython",
    "version": 3
   },
   "file_extension": ".py",
   "mimetype": "text/x-python",
   "name": "python",
   "nbconvert_exporter": "python",
   "pygments_lexer": "ipython3",
   "version": "3.10.4"
  },
  "orig_nbformat": 4,
  "vscode": {
   "interpreter": {
    "hash": "b681ff59256b061c49546ea454996e83af16d9cc9acc4880c7382c1812a560f4"
   }
  }
 },
 "nbformat": 4,
 "nbformat_minor": 2
}
