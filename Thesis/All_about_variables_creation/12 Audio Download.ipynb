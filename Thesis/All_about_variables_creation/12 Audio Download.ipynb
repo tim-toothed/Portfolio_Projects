{
 "cells": [
  {
   "cell_type": "code",
   "execution_count": 52,
   "metadata": {},
   "outputs": [],
   "source": [
    "import wget\n",
    "import pandas as pd"
   ]
  },
  {
   "cell_type": "code",
   "execution_count": 58,
   "metadata": {},
   "outputs": [],
   "source": [
    "ds = pd.read_csv(\"ds_fin_donwload_links.csv\")"
   ]
  },
  {
   "cell_type": "code",
   "execution_count": 59,
   "metadata": {},
   "outputs": [],
   "source": [
    "ds1 = ds[~ds['download_link'].duplicated()]\n",
    "ds1.reset_index(drop=True, inplace=True)"
   ]
  },
  {
   "cell_type": "code",
   "execution_count": 61,
   "metadata": {},
   "outputs": [
    {
     "name": "stdout",
     "output_type": "stream",
     "text": [
      "13095\r"
     ]
    }
   ],
   "source": [
    "for i in range(0,13096):\n",
    "    print(i, end=\"\\r\")\n",
    "    url = ds1[\"download_link\"][i]\n",
    "    file_name = (r\"C:\\Users\\timur\\OneDrive\\Documents\\R Studio Tasks\\ДИПЛОМ\\Audio New\" + \"\\\\\" + ds1[\"track_id\"][i] + \" - \" + ds1[\"artist_name\"][i] + \" - \" + ds1[\"track_name\"][i] + \".mp3\")\n",
    "    file_name = file_name.replace('\"','')\n",
    "    file_name = file_name.replace('/','')\n",
    "    file_name = file_name.replace('?','')\n",
    "    file_name = file_name.replace('*','')\n",
    "    file_name = file_name.replace('!','')\n",
    "    wget.download(url, file_name)"
   ]
  }
 ],
 "metadata": {
  "kernelspec": {
   "display_name": "Python 3",
   "language": "python",
   "name": "python3"
  },
  "language_info": {
   "codemirror_mode": {
    "name": "ipython",
    "version": 3
   },
   "file_extension": ".py",
   "mimetype": "text/x-python",
   "name": "python",
   "nbconvert_exporter": "python",
   "pygments_lexer": "ipython3",
   "version": "3.10.4"
  },
  "orig_nbformat": 4
 },
 "nbformat": 4,
 "nbformat_minor": 2
}
