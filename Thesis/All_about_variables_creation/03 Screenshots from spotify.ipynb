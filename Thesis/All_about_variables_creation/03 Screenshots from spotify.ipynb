{
 "cells": [
  {
   "cell_type": "code",
   "execution_count": null,
   "metadata": {},
   "outputs": [],
   "source": [
    "!pip3 install keyboard"
   ]
  },
  {
   "cell_type": "code",
   "execution_count": null,
   "metadata": {},
   "outputs": [],
   "source": [
    "%pip install pyautogui"
   ]
  },
  {
   "cell_type": "code",
   "execution_count": 21,
   "metadata": {},
   "outputs": [
    {
     "name": "stdout",
     "output_type": "stream",
     "text": [
      "Requirement already satisfied: pytesseract in c:\\users\\timur\\appdata\\local\\programs\\python\\python310\\lib\\site-packages (0.3.10)\n",
      "Requirement already satisfied: Pillow>=8.0.0 in c:\\users\\timur\\appdata\\local\\programs\\python\\python310\\lib\\site-packages (from pytesseract) (9.2.0)\n",
      "Requirement already satisfied: packaging>=21.3 in c:\\users\\timur\\appdata\\local\\programs\\python\\python310\\lib\\site-packages (from pytesseract) (21.3)\n",
      "Requirement already satisfied: pyparsing!=3.0.5,>=2.0.2 in c:\\users\\timur\\appdata\\local\\programs\\python\\python310\\lib\\site-packages (from packaging>=21.3->pytesseract) (3.0.9)\n",
      "Note: you may need to restart the kernel to use updated packages.\n"
     ]
    },
    {
     "name": "stderr",
     "output_type": "stream",
     "text": [
      "WARNING: There was an error checking the latest version of pip.\n"
     ]
    },
    {
     "name": "stdout",
     "output_type": "stream",
     "text": [
      "Requirement already satisfied: pillow in c:\\users\\timur\\appdata\\local\\programs\\python\\python310\\lib\\site-packages (9.2.0)\n",
      "Note: you may need to restart the kernel to use updated packages.\n"
     ]
    },
    {
     "name": "stderr",
     "output_type": "stream",
     "text": [
      "WARNING: There was an error checking the latest version of pip.\n"
     ]
    }
   ],
   "source": [
    "%pip install pytesseract\n",
    "%pip install pillow"
   ]
  },
  {
   "cell_type": "code",
   "execution_count": 22,
   "metadata": {},
   "outputs": [],
   "source": [
    "import keyboard as kb\n",
    "import time\n",
    "import pyautogui\n",
    "import csv\n",
    "import pandas\n",
    "import re\n",
    "from PIL import Image\n",
    "from pytesseract import pytesseract\n",
    "import numpy as np"
   ]
  },
  {
   "cell_type": "code",
   "execution_count": 30,
   "metadata": {},
   "outputs": [],
   "source": [
    "# loading datasets\n",
    "ds_music = pandas.read_csv(r\"C:\\Users\\timur\\OneDrive\\Documents\\R Studio Tasks\\ДИПЛОМ\\ds_music.csv\")\n",
    "ds_music1 = ds_music[['artist','name','track_url']]"
   ]
  },
  {
   "cell_type": "code",
   "execution_count": 13,
   "metadata": {},
   "outputs": [
    {
     "ename": "IndexError",
     "evalue": "single positional indexer is out-of-bounds",
     "output_type": "error",
     "traceback": [
      "\u001b[1;31m---------------------------------------------------------------------------\u001b[0m",
      "\u001b[1;31mIndexError\u001b[0m                                Traceback (most recent call last)",
      "\u001b[1;32mc:\\Users\\timur\\OneDrive\\Documents\\R Studio Tasks\\ДИПЛОМ\\03 Screenshots from spotify.ipynb Ячейка 5\u001b[0m in \u001b[0;36m<cell line: 8>\u001b[1;34m()\u001b[0m\n\u001b[0;32m      <a href='vscode-notebook-cell:/c%3A/Users/timur/OneDrive/Documents/R%20Studio%20Tasks/%D0%94%D0%98%D0%9F%D0%9B%D0%9E%D0%9C/03%20Screenshots%20from%20spotify.ipynb#W4sZmlsZQ%3D%3D?line=6'>7</a>\u001b[0m g \u001b[39m=\u001b[39m \u001b[39m559\u001b[39m\n\u001b[0;32m      <a href='vscode-notebook-cell:/c%3A/Users/timur/OneDrive/Documents/R%20Studio%20Tasks/%D0%94%D0%98%D0%9F%D0%9B%D0%9E%D0%9C/03%20Screenshots%20from%20spotify.ipynb#W4sZmlsZQ%3D%3D?line=7'>8</a>\u001b[0m \u001b[39mwhile\u001b[39;00m (g \u001b[39m<\u001b[39m \u001b[39m560\u001b[39m):\n\u001b[1;32m----> <a href='vscode-notebook-cell:/c%3A/Users/timur/OneDrive/Documents/R%20Studio%20Tasks/%D0%94%D0%98%D0%9F%D0%9B%D0%9E%D0%9C/03%20Screenshots%20from%20spotify.ipynb#W4sZmlsZQ%3D%3D?line=8'>9</a>\u001b[0m   search_query \u001b[39m=\u001b[39m \u001b[39m\"\u001b[39m\u001b[39m \u001b[39m\u001b[39m\"\u001b[39m\u001b[39m.\u001b[39mjoin([(ds_music1\u001b[39m.\u001b[39;49miloc[\u001b[39m559\u001b[39;49m][\u001b[39m0\u001b[39m]),(ds_music1\u001b[39m.\u001b[39miloc[\u001b[39m559\u001b[39m][\u001b[39m1\u001b[39m])])\n\u001b[0;32m     <a href='vscode-notebook-cell:/c%3A/Users/timur/OneDrive/Documents/R%20Studio%20Tasks/%D0%94%D0%98%D0%9F%D0%9B%D0%9E%D0%9C/03%20Screenshots%20from%20spotify.ipynb#W4sZmlsZQ%3D%3D?line=9'>10</a>\u001b[0m   kb\u001b[39m.\u001b[39msend(\u001b[39m\"\u001b[39m\u001b[39mctrl+l\u001b[39m\u001b[39m\"\u001b[39m)\n\u001b[0;32m     <a href='vscode-notebook-cell:/c%3A/Users/timur/OneDrive/Documents/R%20Studio%20Tasks/%D0%94%D0%98%D0%9F%D0%9B%D0%9E%D0%9C/03%20Screenshots%20from%20spotify.ipynb#W4sZmlsZQ%3D%3D?line=10'>11</a>\u001b[0m   time\u001b[39m.\u001b[39msleep(\u001b[39m2\u001b[39m)\n",
      "File \u001b[1;32mc:\\Users\\timur\\AppData\\Local\\Programs\\Python\\Python310\\lib\\site-packages\\pandas\\core\\indexing.py:967\u001b[0m, in \u001b[0;36m_LocationIndexer.__getitem__\u001b[1;34m(self, key)\u001b[0m\n\u001b[0;32m    964\u001b[0m axis \u001b[39m=\u001b[39m \u001b[39mself\u001b[39m\u001b[39m.\u001b[39maxis \u001b[39mor\u001b[39;00m \u001b[39m0\u001b[39m\n\u001b[0;32m    966\u001b[0m maybe_callable \u001b[39m=\u001b[39m com\u001b[39m.\u001b[39mapply_if_callable(key, \u001b[39mself\u001b[39m\u001b[39m.\u001b[39mobj)\n\u001b[1;32m--> 967\u001b[0m \u001b[39mreturn\u001b[39;00m \u001b[39mself\u001b[39;49m\u001b[39m.\u001b[39;49m_getitem_axis(maybe_callable, axis\u001b[39m=\u001b[39;49maxis)\n",
      "File \u001b[1;32mc:\\Users\\timur\\AppData\\Local\\Programs\\Python\\Python310\\lib\\site-packages\\pandas\\core\\indexing.py:1520\u001b[0m, in \u001b[0;36m_iLocIndexer._getitem_axis\u001b[1;34m(self, key, axis)\u001b[0m\n\u001b[0;32m   1517\u001b[0m     \u001b[39mraise\u001b[39;00m \u001b[39mTypeError\u001b[39;00m(\u001b[39m\"\u001b[39m\u001b[39mCannot index by location index with a non-integer key\u001b[39m\u001b[39m\"\u001b[39m)\n\u001b[0;32m   1519\u001b[0m \u001b[39m# validate the location\u001b[39;00m\n\u001b[1;32m-> 1520\u001b[0m \u001b[39mself\u001b[39;49m\u001b[39m.\u001b[39;49m_validate_integer(key, axis)\n\u001b[0;32m   1522\u001b[0m \u001b[39mreturn\u001b[39;00m \u001b[39mself\u001b[39m\u001b[39m.\u001b[39mobj\u001b[39m.\u001b[39m_ixs(key, axis\u001b[39m=\u001b[39maxis)\n",
      "File \u001b[1;32mc:\\Users\\timur\\AppData\\Local\\Programs\\Python\\Python310\\lib\\site-packages\\pandas\\core\\indexing.py:1452\u001b[0m, in \u001b[0;36m_iLocIndexer._validate_integer\u001b[1;34m(self, key, axis)\u001b[0m\n\u001b[0;32m   1450\u001b[0m len_axis \u001b[39m=\u001b[39m \u001b[39mlen\u001b[39m(\u001b[39mself\u001b[39m\u001b[39m.\u001b[39mobj\u001b[39m.\u001b[39m_get_axis(axis))\n\u001b[0;32m   1451\u001b[0m \u001b[39mif\u001b[39;00m key \u001b[39m>\u001b[39m\u001b[39m=\u001b[39m len_axis \u001b[39mor\u001b[39;00m key \u001b[39m<\u001b[39m \u001b[39m-\u001b[39mlen_axis:\n\u001b[1;32m-> 1452\u001b[0m     \u001b[39mraise\u001b[39;00m \u001b[39mIndexError\u001b[39;00m(\u001b[39m\"\u001b[39m\u001b[39msingle positional indexer is out-of-bounds\u001b[39m\u001b[39m\"\u001b[39m)\n",
      "\u001b[1;31mIndexError\u001b[0m: single positional indexer is out-of-bounds"
     ]
    }
   ],
   "source": [
    "# screenshots of spotify\n",
    "kb.send(\"alt+tab\")\n",
    "time.sleep(0.5)\n",
    "kb.send(\"enter\")\n",
    "time.sleep(0.2)\n",
    "# create keyboard loop  \n",
    "g = 500\n",
    "while (g < 559):\n",
    "  search_query = \" \".join([(ds_music1.iloc[g][0]),(ds_music1.iloc[g][1])])\n",
    "  kb.send(\"ctrl+l\")\n",
    "  time.sleep(2)\n",
    "  kb.write(search_query)\n",
    "  time.sleep(1.5)\n",
    "  kb.send(\"enter\")\n",
    "  time.sleep(1.5)\n",
    "  kb.send(\"tab\")\n",
    "  \n",
    "  kb.send(\"enter\")\n",
    "  time.sleep(3)\n",
    "  kb.send(\"right\")  \n",
    "\n",
    "  myScreenshot = pyautogui.screenshot()\n",
    "  path = \"\".join([\"C:\\\\Users\\\\timur\\\\OneDrive\\\\Documents\\\\R Studio Tasks\\\\ДИПЛОМ\\\\Screenshots Spotify\\\\\",str(g), \n",
    "    re.sub(string = search_query, pattern = \"[^A-Za-zА-Яа-яЁ-ё0-9\\s]+\", repl = \"\"),\".png\"])\n",
    "  myScreenshot.save(path)\n",
    "  time.sleep(1)\n",
    "  g = g+1"
   ]
  },
  {
   "cell_type": "code",
   "execution_count": 31,
   "metadata": {},
   "outputs": [],
   "source": [
    "#Define path to tessaract.exe\n",
    "path_to_tesseract = r'C:\\Program Files\\Tesseract-OCR\\tesseract.exe'\n",
    "#Point tessaract_cmd to tessaract.exe\n",
    "pytesseract.tesseract_cmd = path_to_tesseract\n",
    "ds_music[\"play_counts_spotify\"] = np.nan"
   ]
  },
  {
   "cell_type": "code",
   "execution_count": 36,
   "metadata": {},
   "outputs": [],
   "source": [
    "i=0\n",
    "while (i<559):\n",
    "    #Define path to image\n",
    "    search_query = \" \".join([(ds_music1.iloc[i][0]),(ds_music1.iloc[i][1])])\n",
    "    path_to_image = \"\".join([\"C:\\\\Users\\\\timur\\\\OneDrive\\\\Documents\\\\R Studio Tasks\\\\ДИПЛОМ\\\\Screenshots Spotify\\\\\",str(i), \n",
    "    re.sub(string = search_query, pattern = \"[^A-Za-zА-Яа-яЁ-ё0-9\\s]+\", repl = \"\"),\".png\"])\n",
    "    #Open image with PIL\n",
    "    img = Image.open(path_to_image)\n",
    "    #Crop image\n",
    "    box = (1068,645,1169,668)\n",
    "    img2 = img.crop(box)\n",
    "\n",
    "    #Extract text from image\n",
    "    text = pytesseract.image_to_string(img2)\n",
    "    ds_music.at[i, \"play_counts_spotify\"] = pandas.to_numeric(re.sub(string = text, pattern = \" \", repl = \"\"))\n",
    "    i=i+1"
   ]
  },
  {
   "cell_type": "code",
   "execution_count": 37,
   "metadata": {},
   "outputs": [],
   "source": [
    "ds_music.to_csv(\"C:\\\\Users\\\\timur\\\\OneDrive\\\\Documents\\\\R Studio Tasks\\\\ДИПЛОМ\\\\ds_music_after_python.csv\")"
   ]
  }
 ],
 "metadata": {
  "kernelspec": {
   "display_name": "Python 3.10.4 64-bit",
   "language": "python",
   "name": "python3"
  },
  "language_info": {
   "codemirror_mode": {
    "name": "ipython",
    "version": 3
   },
   "file_extension": ".py",
   "mimetype": "text/x-python",
   "name": "python",
   "nbconvert_exporter": "python",
   "pygments_lexer": "ipython3",
   "version": "3.10.4"
  },
  "orig_nbformat": 4,
  "vscode": {
   "interpreter": {
    "hash": "b681ff59256b061c49546ea454996e83af16d9cc9acc4880c7382c1812a560f4"
   }
  }
 },
 "nbformat": 4,
 "nbformat_minor": 2
}
