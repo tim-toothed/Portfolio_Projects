{
 "cells": [
  {
   "cell_type": "code",
   "execution_count": 12,
   "metadata": {},
   "outputs": [
    {
     "name": "stdout",
     "output_type": "stream",
     "text": [
      "Collecting youtube-python\n",
      "  Downloading youtube-python-1.0.13.tar.gz (2.8 kB)\n",
      "  Preparing metadata (setup.py): started\n",
      "  Preparing metadata (setup.py): finished with status 'done'\n",
      "Requirement already satisfied: requests in c:\\users\\timur\\appdata\\local\\programs\\python\\python310\\lib\\site-packages (from youtube-python) (2.27.1)\n",
      "Requirement already satisfied: charset-normalizer~=2.0.0 in c:\\users\\timur\\appdata\\local\\programs\\python\\python310\\lib\\site-packages (from requests->youtube-python) (2.0.12)\n",
      "Requirement already satisfied: urllib3<1.27,>=1.21.1 in c:\\users\\timur\\appdata\\local\\programs\\python\\python310\\lib\\site-packages (from requests->youtube-python) (1.26.9)\n",
      "Requirement already satisfied: idna<4,>=2.5 in c:\\users\\timur\\appdata\\local\\programs\\python\\python310\\lib\\site-packages (from requests->youtube-python) (3.3)\n",
      "Requirement already satisfied: certifi>=2017.4.17 in c:\\users\\timur\\appdata\\local\\programs\\python\\python310\\lib\\site-packages (from requests->youtube-python) (2021.10.8)\n",
      "Using legacy 'setup.py install' for youtube-python, since package 'wheel' is not installed.\n",
      "Installing collected packages: youtube-python\n",
      "  Running setup.py install for youtube-python: started\n",
      "  Running setup.py install for youtube-python: finished with status 'done'\n",
      "Successfully installed youtube-python-1.0.13\n",
      "Note: you may need to restart the kernel to use updated packages.\n"
     ]
    },
    {
     "name": "stderr",
     "output_type": "stream",
     "text": [
      "WARNING: There was an error checking the latest version of pip.\n"
     ]
    }
   ],
   "source": [
    "%pip install youtube-python"
   ]
  },
  {
   "cell_type": "code",
   "execution_count": 13,
   "metadata": {},
   "outputs": [],
   "source": [
    "#coding: utf-8\n",
    "import json\n",
    "# Spotify library.\n",
    "import spotipy\n",
    "from spotipy.oauth2 import SpotifyClientCredentials\n",
    "# URL conversions.\n",
    "import urllib.request\n",
    "import bs4\n",
    "# Youtube stuff.\n",
    "import youtube"
   ]
  },
  {
   "cell_type": "code",
   "execution_count": 1,
   "metadata": {},
   "outputs": [
    {
     "ename": "ModuleNotFoundError",
     "evalue": "No module named 'spotipy'",
     "output_type": "error",
     "traceback": [
      "\u001b[1;31m---------------------------------------------------------------------------\u001b[0m",
      "\u001b[1;31mModuleNotFoundError\u001b[0m                       Traceback (most recent call last)",
      "\u001b[1;32mUntitled-1.ipynb Ячейка 2\u001b[0m in \u001b[0;36m<cell line: 4>\u001b[1;34m()\u001b[0m\n\u001b[0;32m      <a href='vscode-notebook-cell:Untitled-1.ipynb?jupyter-notebook#W1sdW50aXRsZWQ%3D?line=1'>2</a>\u001b[0m \u001b[39mimport\u001b[39;00m \u001b[39mjson\u001b[39;00m\n\u001b[0;32m      <a href='vscode-notebook-cell:Untitled-1.ipynb?jupyter-notebook#W1sdW50aXRsZWQ%3D?line=2'>3</a>\u001b[0m \u001b[39m# Spotify library.\u001b[39;00m\n\u001b[1;32m----> <a href='vscode-notebook-cell:Untitled-1.ipynb?jupyter-notebook#W1sdW50aXRsZWQ%3D?line=3'>4</a>\u001b[0m \u001b[39mimport\u001b[39;00m \u001b[39mspotipy\u001b[39;00m\n\u001b[0;32m      <a href='vscode-notebook-cell:Untitled-1.ipynb?jupyter-notebook#W1sdW50aXRsZWQ%3D?line=4'>5</a>\u001b[0m \u001b[39mfrom\u001b[39;00m \u001b[39mspotipy\u001b[39;00m\u001b[39m.\u001b[39;00m\u001b[39moauth2\u001b[39;00m \u001b[39mimport\u001b[39;00m SpotifyClientCredentials\n\u001b[0;32m      <a href='vscode-notebook-cell:Untitled-1.ipynb?jupyter-notebook#W1sdW50aXRsZWQ%3D?line=5'>6</a>\u001b[0m \u001b[39m# URL conversions.\u001b[39;00m\n",
      "\u001b[1;31mModuleNotFoundError\u001b[0m: No module named 'spotipy'"
     ]
    }
   ],
   "source": [
    "# Opening our JSON configuration file (which has our tokens).\n",
    "with open(\"config.json\", encoding='utf-8-sig') as json_file:\n",
    "    APIs = json.load(json_file)\n",
    "\n",
    "def getTracks(playlistURL):\n",
    "    # Creating and authenticating our Spotify app.\n",
    "    client_credentials_manager = SpotifyClientCredentials(APIs[\"spotify\"][\"client_id\"], APIs[\"spotify\"][\"client_secret\"])\n",
    "    spotify = spotipy.Spotify(client_credentials_manager=client_credentials_manager)\n",
    "\n",
    "    # Getting a playlist.\n",
    "    results = spotify.user_playlist_tracks(user=\"\",playlist_id=playlistURL)\n",
    "\n",
    "    trackList = [];\n",
    "    # For each track in the playlist.\n",
    "    for i in results[\"tracks\"][\"items\"]:\n",
    "        # In case there's only one artist.\n",
    "        if (i[\"track\"][\"artists\"].__len__() == 1):\n",
    "            # We add trackName - artist.\n",
    "            trackList.append(i[\"track\"][\"name\"] + \" - \" + i[\"track\"][\"artists\"][0][\"name\"])\n",
    "        # In case there's more than one artist.\n",
    "        else:\n",
    "            nameString = \"\";\n",
    "            # For each artist in the track.\n",
    "            for index, b in enumerate(i[\"track\"][\"artists\"]):\n",
    "                nameString += (b[\"name\"]);\n",
    "                # If it isn't the last artist.\n",
    "                if (i[\"track\"][\"artists\"].__len__() - 1 != index):\n",
    "                    nameString += \", \";\n",
    "            # Adding the track to the list.\n",
    "            trackList.append(i[\"track\"][\"name\"] + \" - \" + nameString);\n",
    "\n",
    "    return trackList;\n",
    "\n",
    "def searchYoutubeAlternative(songName):\n",
    "    # YouTube will block you if you query too many songs using this search.\n",
    "    textToSearch = songName\n",
    "    query = urllib.parse.quote(textToSearch)\n",
    "    url = \"https://www.youtube.com/results?search_query=\" + query\n",
    "    response = urllib.request.urlopen(url)\n",
    "    html = response.read()\n",
    "    soup = bs4(html, 'html.parser')\n",
    "    for vid in soup.findAll(attrs={'class': 'yt-uix-tile-link'}):\n",
    "        print('https://www.youtube.com' + vid['href'])\n",
    "\n",
    "def searchYoutube(songName):\n",
    "    api = youtube.API(client_id=APIs[\"youtube\"][\"client_id\"],\n",
    "              client_secret=APIs[\"youtube\"][\"client_secret\"],\n",
    "              api_key=APIs[\"youtube\"][\"api_key\"]);\n",
    "    video = api.get('search', q=songName, maxResults=1, type='video', order='relevance');\n",
    "    return(\"https://www.youtube.com/watch?v=\"+video[\"items\"][0][\"id\"][\"videoId\"]);\n",
    "\n",
    "if (__name__ == \"__main__\"):\n",
    "    tracks = getTracks(str(input(\"Insert Spotify playlist URL: \")));\n",
    "    print(\"Searching songs...\");\n",
    "    songs = [];\n",
    "    for i in tracks:\n",
    "        songs.append(searchYoutube(i));\n",
    "    print(\"Search finished!\");\n",
    "\n",
    "    print(\"URL LIST: \");\n",
    "    for i in songs:\n",
    "        print(i);"
   ]
  }
 ],
 "metadata": {
  "kernelspec": {
   "display_name": "Python 3.10.4 64-bit",
   "language": "python",
   "name": "python3"
  },
  "language_info": {
   "codemirror_mode": {
    "name": "ipython",
    "version": 3
   },
   "file_extension": ".py",
   "mimetype": "text/x-python",
   "name": "python",
   "nbconvert_exporter": "python",
   "pygments_lexer": "ipython3",
   "version": "3.10.4"
  },
  "orig_nbformat": 4,
  "vscode": {
   "interpreter": {
    "hash": "b681ff59256b061c49546ea454996e83af16d9cc9acc4880c7382c1812a560f4"
   }
  }
 },
 "nbformat": 4,
 "nbformat_minor": 2
}
