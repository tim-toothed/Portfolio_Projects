{
 "cells": [
  {
   "cell_type": "code",
   "execution_count": null,
   "metadata": {},
   "outputs": [],
   "source": [
    "import pandas as pd\n",
    "# Read in data and display first 5 rows\n",
    "features = pd.read_csv('temps.csv')\n",
    "features.head(5)"
   ]
  },
  {
   "cell_type": "code",
   "execution_count": null,
   "metadata": {},
   "outputs": [],
   "source": [
    "\n",
    "#Importing essential libraries\n",
    "import matplotlib.pyplot as plt\n",
    "from statistics import mean\n",
    "from matplotlib import pyplot\n",
    "from sklearn.model_selection import train_test_split\n",
    "from sklearn.model_selection import cross_validate\n",
    "from sklearn.model_selection import RepeatedStratifiedKFold\n",
    "from sklearn.metrics import plot_confusion_matrix\n",
    "from sklearn.ensemble import RandomForestClassifier\n",
    "\n",
    "#Build SRF model\n",
    "SRF = RandomForestClassifier(n_estimators=150, random_state=0)\n",
    "#Create Stratified K-fold cross validation\n",
    "cv = RepeatedStratifiedKFold(n_splits=10, n_repeats=3, random_state=1)\n",
    "scoring = ('f1', 'recall', 'precision')\n",
    "#Evaluate SRF model\n",
    "scores = cross_validate(SRF, X, y, scoring=scoring, cv=cv)\n",
    "#Get average evaluation metrics\n",
    "print('Mean f1: %.3f' % mean(scores['test_f1']))\n",
    "print('Mean recall: %.3f' % mean(scores['test_recall']))\n",
    "print('Mean precision: %.3f' % mean(scores['test_precision']))\n",
    "\n",
    "#Randomly spilt dataset to test and train set\n",
    "X_train, X_test, y_train, y_test = train_test_split(X, y, test_size=0.1, stratify=y)\n",
    "#Train SRF\n",
    "SRF.fit(X_train, y_train)\n",
    "#SRF prediction result\n",
    "y_pred = SRF.predict(X_test)\n",
    "#Create confusion matrix\n",
    "fig = plot_confusion_matrix(SRF, X_test, y_test, display_labels=['Will Not Buy', 'Will Buy'], cmap='Greens')\n",
    "plt.title('Standard Random Forest Confusion Matrix')\n",
    "plt.show()"
   ]
  }
 ],
 "metadata": {
  "language_info": {
   "name": "python"
  },
  "orig_nbformat": 4
 },
 "nbformat": 4,
 "nbformat_minor": 2
}
